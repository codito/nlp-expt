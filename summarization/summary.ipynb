{
 "cells": [
  {
   "cell_type": "code",
   "execution_count": 9,
   "id": "5029e79b",
   "metadata": {
    "tags": []
   },
   "outputs": [],
   "source": [
    "import os\n",
    "os.environ['CUDA_LAUNCH_BLOCKING'] = \"1\"\n",
    "\n",
    "import torch\n",
    "from transformers import pipeline, AutoTokenizer, AutoModel\n",
    "\n",
    "device = \"cuda:0\" if torch.cuda.is_available() else \"cpu\"\n",
    "device = \"cpu\"\n",
    "\n",
    "model_id = \"philschmid/bart-large-cnn-samsum\"\n",
    "tokenizer = AutoTokenizer.from_pretrained(model_id, max_length=1024, truncation=True)\n",
    "summarizer = pipeline(\"summarization\", model=model_id, device=device, tokenizer=tokenizer)\n",
    "\n",
    "def summarize_text(text: str, max_len: int) -> str:\n",
    "    try:\n",
    "        text = text[:max_len] if len(text) > max_len else text\n",
    "        summary = summarizer(text, max_length=max_len, min_length=10, do_sample=False)\n",
    "        return summary[0][\"summary_text\"]\n",
    "    except IndexError as ex:\n",
    "        logging.warning(\"Sequence length too large for model, cutting text in half and calling again\")\n",
    "        return summarize_text(text=text[:(len(text) // 2)], max_len=max_len//2) + summarize_text(text=text[(len(text) // 2):], max_len=max_len//2)\n",
    "  "
   ]
  },
  {
   "cell_type": "code",
   "execution_count": 7,
   "id": "bb91e637",
   "metadata": {},
   "outputs": [
    {
     "name": "stderr",
     "output_type": "stream",
     "text": [
      "Found cached dataset parquet (/home/arun/.cache/huggingface/datasets/argilla___parquet/argilla--news-summary-53286f0044d57a8a/0.0.0/2a3b91fbd88a2c90d1dbbb32b460cf621d31bd5b05b934492fdef7d8d6f236ec)\n"
     ]
    },
    {
     "data": {
      "application/vnd.jupyter.widget-view+json": {
       "model_id": "7c19f4f8a5294d5eaddd8e3b40dbe77a",
       "version_major": 2,
       "version_minor": 0
      },
      "text/plain": [
       "  0%|          | 0/2 [00:00<?, ?it/s]"
      ]
     },
     "metadata": {},
     "output_type": "display_data"
    },
    {
     "name": "stdout",
     "output_type": "stream",
     "text": [
      "Train size: 47\n",
      "Test size: 12\n"
     ]
    }
   ],
   "source": [
    "from datasets import load_dataset\n",
    "\n",
    "dataset = load_dataset(\"argilla/news-summary\")\n",
    "print(f\"Train size: {len(dataset['train'])}\")\n",
    "print(f\"Test size: {len(dataset['test'])}\")"
   ]
  },
  {
   "cell_type": "code",
   "execution_count": 12,
   "id": "b0da285f-cb28-45a2-aa7f-fd128a7eebeb",
   "metadata": {},
   "outputs": [
    {
     "name": "stderr",
     "output_type": "stream",
     "text": [
      "Your max_length is set to 1024, but you input_length is only 219. You might consider decreasing max_length manually, e.g. summarizer('...', max_length=109)\n",
      "Your max_length is set to 1024, but you input_length is only 136. You might consider decreasing max_length manually, e.g. summarizer('...', max_length=68)\n",
      "Your max_length is set to 1024, but you input_length is only 117. You might consider decreasing max_length manually, e.g. summarizer('...', max_length=58)\n",
      "Your max_length is set to 1024, but you input_length is only 194. You might consider decreasing max_length manually, e.g. summarizer('...', max_length=97)\n",
      "Your max_length is set to 1024, but you input_length is only 67. You might consider decreasing max_length manually, e.g. summarizer('...', max_length=33)\n",
      "Your max_length is set to 1024, but you input_length is only 53. You might consider decreasing max_length manually, e.g. summarizer('...', max_length=26)\n",
      "Your max_length is set to 1024, but you input_length is only 90. You might consider decreasing max_length manually, e.g. summarizer('...', max_length=45)\n",
      "Your max_length is set to 1024, but you input_length is only 214. You might consider decreasing max_length manually, e.g. summarizer('...', max_length=107)\n",
      "Your max_length is set to 1024, but you input_length is only 222. You might consider decreasing max_length manually, e.g. summarizer('...', max_length=111)\n",
      "Your max_length is set to 1024, but you input_length is only 111. You might consider decreasing max_length manually, e.g. summarizer('...', max_length=55)\n",
      "Your max_length is set to 1024, but you input_length is only 224. You might consider decreasing max_length manually, e.g. summarizer('...', max_length=112)\n",
      "Your max_length is set to 1024, but you input_length is only 213. You might consider decreasing max_length manually, e.g. summarizer('...', max_length=106)\n",
      "Your max_length is set to 1024, but you input_length is only 248. You might consider decreasing max_length manually, e.g. summarizer('...', max_length=124)\n",
      "Your max_length is set to 1024, but you input_length is only 211. You might consider decreasing max_length manually, e.g. summarizer('...', max_length=105)\n",
      "Your max_length is set to 1024, but you input_length is only 91. You might consider decreasing max_length manually, e.g. summarizer('...', max_length=45)\n",
      "Your max_length is set to 1024, but you input_length is only 147. You might consider decreasing max_length manually, e.g. summarizer('...', max_length=73)\n",
      "Your max_length is set to 1024, but you input_length is only 123. You might consider decreasing max_length manually, e.g. summarizer('...', max_length=61)\n",
      "Your max_length is set to 1024, but you input_length is only 202. You might consider decreasing max_length manually, e.g. summarizer('...', max_length=101)\n",
      "Your max_length is set to 1024, but you input_length is only 230. You might consider decreasing max_length manually, e.g. summarizer('...', max_length=115)\n",
      "Your max_length is set to 1024, but you input_length is only 208. You might consider decreasing max_length manually, e.g. summarizer('...', max_length=104)\n",
      "Your max_length is set to 1024, but you input_length is only 204. You might consider decreasing max_length manually, e.g. summarizer('...', max_length=102)\n",
      "Your max_length is set to 1024, but you input_length is only 179. You might consider decreasing max_length manually, e.g. summarizer('...', max_length=89)\n",
      "Your max_length is set to 1024, but you input_length is only 194. You might consider decreasing max_length manually, e.g. summarizer('...', max_length=97)\n",
      "Your max_length is set to 1024, but you input_length is only 202. You might consider decreasing max_length manually, e.g. summarizer('...', max_length=101)\n",
      "Your max_length is set to 1024, but you input_length is only 227. You might consider decreasing max_length manually, e.g. summarizer('...', max_length=113)\n",
      "Your max_length is set to 1024, but you input_length is only 193. You might consider decreasing max_length manually, e.g. summarizer('...', max_length=96)\n",
      "Your max_length is set to 1024, but you input_length is only 166. You might consider decreasing max_length manually, e.g. summarizer('...', max_length=83)\n",
      "Your max_length is set to 1024, but you input_length is only 200. You might consider decreasing max_length manually, e.g. summarizer('...', max_length=100)\n",
      "Your max_length is set to 1024, but you input_length is only 152. You might consider decreasing max_length manually, e.g. summarizer('...', max_length=76)\n",
      "Your max_length is set to 1024, but you input_length is only 199. You might consider decreasing max_length manually, e.g. summarizer('...', max_length=99)\n",
      "Your max_length is set to 1024, but you input_length is only 207. You might consider decreasing max_length manually, e.g. summarizer('...', max_length=103)\n",
      "Your max_length is set to 1024, but you input_length is only 203. You might consider decreasing max_length manually, e.g. summarizer('...', max_length=101)\n",
      "Your max_length is set to 1024, but you input_length is only 208. You might consider decreasing max_length manually, e.g. summarizer('...', max_length=104)\n",
      "Your max_length is set to 1024, but you input_length is only 208. You might consider decreasing max_length manually, e.g. summarizer('...', max_length=104)\n",
      "Your max_length is set to 1024, but you input_length is only 234. You might consider decreasing max_length manually, e.g. summarizer('...', max_length=117)\n",
      "Your max_length is set to 1024, but you input_length is only 224. You might consider decreasing max_length manually, e.g. summarizer('...', max_length=112)\n",
      "Your max_length is set to 1024, but you input_length is only 120. You might consider decreasing max_length manually, e.g. summarizer('...', max_length=60)\n",
      "Your max_length is set to 1024, but you input_length is only 189. You might consider decreasing max_length manually, e.g. summarizer('...', max_length=94)\n",
      "Your max_length is set to 1024, but you input_length is only 216. You might consider decreasing max_length manually, e.g. summarizer('...', max_length=108)\n",
      "Your max_length is set to 1024, but you input_length is only 84. You might consider decreasing max_length manually, e.g. summarizer('...', max_length=42)\n",
      "Your max_length is set to 1024, but you input_length is only 229. You might consider decreasing max_length manually, e.g. summarizer('...', max_length=114)\n",
      "Your max_length is set to 1024, but you input_length is only 110. You might consider decreasing max_length manually, e.g. summarizer('...', max_length=55)\n",
      "Your max_length is set to 1024, but you input_length is only 193. You might consider decreasing max_length manually, e.g. summarizer('...', max_length=96)\n",
      "Your max_length is set to 1024, but you input_length is only 228. You might consider decreasing max_length manually, e.g. summarizer('...', max_length=114)\n",
      "Your max_length is set to 1024, but you input_length is only 201. You might consider decreasing max_length manually, e.g. summarizer('...', max_length=100)\n",
      "Your max_length is set to 1024, but you input_length is only 202. You might consider decreasing max_length manually, e.g. summarizer('...', max_length=101)\n",
      "Your max_length is set to 1024, but you input_length is only 212. You might consider decreasing max_length manually, e.g. summarizer('...', max_length=106)\n"
     ]
    },
    {
     "name": "stdout",
     "output_type": "stream",
     "text": [
      "[\"Donald Trump will begin a major push next week to convince the public of the need for tax reform. Trump will start the effort next Wednesday with a speech in Missouri. Gary Cohn, director of the National Economic Council, says the president's agenda will revolve around tax reform starting next week.\", 'Britain has two proposals on how to secure a frictionless border with EU member Ireland after Brexit, Northern Ireland minister James Brokenshire says.', 'U.S. Senator Bill Nelson sent letters to the chief executives of 10 major U.S.-based airlines on Monday. He urged them to cap airline fares for passengers fleeing Hurricane Maria.', 'U.S. Senate Republicans reach a tentative budget deal that could allow tax reform legislation to eliminate as much as $1.5 trillion in revenues over 10 years through tax cuts. It raises the odds that their planned tax overhaul would expand the federal deficit.', 'U.S. congressional leaders and White House officials will release a document during the week of Sept. 25 outlining the framework for tax reform. The goal is for Congress to finish the budget process by mid-October.', 'President Obama will sign a North Korea sanctions bill, the White House said on Wednesday.', \"The U.S. State Department says Catalonia is an integral part of Spain and Washington backs Madrid's efforts to keep Spain united.\", 'Donald Trump will meet with Indiana Governor Mike Pence this weekend. MSNBC reports that Trump is considering Pence as a potential vice presidential candidate.', 'Tillerson said Russia may have the \"right approach\" on Syria and the United States the wrong one. Russia has backed President Bashar al-Assad in Syria’s civil war. The United States supports rebel groups trying to overthrow him.', \"U.S. Senate Intelligence Committee Chairman Richard Burr says indictments announced by Special Counsel Robert Mueller do not change anything regarding his panel's investigation of potential Russian meddling in the 2016 election.\", 'Dominican-born Adriano Espaillat won the Democratic primary to succeed Charles Rangel in the U.S. House of Representatives. He would be the first Dominican-American member of Congress.', 'Texas Governor Greg Abbott signed into law a measure to punish \"sanctuary cities\" on Sunday. The law will take effect on Sept. 1. It would punish local authorities who do not abide by requests to cooperate with federal immigration agents.', 'Donald Trump is the Republican presidential nominee in Pensacola, Florida. Trump wants to keep the U.S. out of what he calls \"endless wars\" in the Middle East.', 'The international investigation into chemical weapons attacks in Syria will end on Friday. Russia blocked for the third time in a month attempts at the United Nations to renew the inquiry.', \"Parliament voted on Tuesday on a formula to halt financial transactions with the Kurdistan region in retaliation for last week's independence referendum.\", 'India has formed a panel of government officials to investigate cases that figure in the so-called Paradise Papers. The documents relate to the affairs of wealthy individuals and institutions, including Queen Elizabeth and Glencore.', \"President Obama's policy of easing trade and travel restrictions with Cuba is having a positive impact on the lives of Americans and Cubans, official says.\", \"Politicians across the globe criticize Spanish police who used truncheons and rubber bullets on voters in a crackdown on Sunday's secession vote. Several politicians from regions with their own separatist movements say it's time for politics to resolve the crisis in Spain's fourth-biggest economy.\", 'Frontier Contact Lenses was bought by Johnson & Johnson in 1981. The fully automated factory allows four workers to produce in a 12-hour shift. The Jacksonville plant and one in Ireland make 4 billion soft contacts a year.', 'Judge Gonzalo Curiel is leaning toward approving a $25 million settlement of fraud claims against Donald Trump and his Trump University real estate seminars. Under the settlement, former Trump University students are expected to recover 80 percent of the money they spent on courses and mentoring programs.', \"France will not recognize Catalonia if it declares independence, European affairs minister Nathalie Loiseau says. Catalonia held a referendum on Oct. 1 over secession in defiance of Spain's constitutional court.\", 'Kremlin says any U.S. decision to supply Ukraine with lethal weapons would set back peace efforts and escalate tensions. The Kremlin was referring to an interview given by the special envoy on Ukraine to the BBC.', \"The House of Representatives approved a broad package of tax cuts. The House vote shifted the tax debate to the Senate, where a tax-writing panel finished debating and approved a bill late Thursday evening. The full Senate action is expected after next week's Thanksgiving holiday. Four Republican senators have been talking privately about opposing the bill.\", 'The Trump administration made its final plea to the Supreme Court to allow its proposed ban on travelers from six Muslim-majority countries to go into effect. Lower court rulings blocked the 90-day ban on travellers from Libya, Iran, Somalia, Sudan, Syria and Yemen and a 120-day delay on all refugees entering the United States.', \"Japan's PM Shinzo Abe's ruling bloc could come close to keeping its two-thirds super majority in an Oct. 22 lower house election. Abe's conservative Liberal Democratic Party and its junior partner Komeito are likely to secure more than 290 seats in 465-seat chamber.\", 'A Turkish cargo ship with 10 crew on board sank in the Black Sea near the Asian side of Istanbul early on Wednesday morning. Bilal Bal was carrying cast iron from the northwestern province of Bursa to the northern province of Zonguldak. Search and rescue operations are continuing.', 'Donald Trump had a good conversation with President Barack Obama on Wednesday. Trump tweeted earlier that the transition was not going smoothly.', 'The U.S. Department of Homeland Security terminated a program that allowed minors fleeing violence in El Salvador, Guatemala and Honduras to settle in the United States. More than 2,700 children were awaiting approval. The program started at the end of 2014 under the administration of former President Barack Obama.', \"President Donald Trump takes Republican Senator Bob Corker to task on Twitter. Corker recently said that Trump did not understand the nation's character and had not demonstrated competence.\", 'Save the Children has suspended migrant rescues in the Mediterranean Sea as departures from Libya slow and security conditions worsen. Save the Children operated a ship, the Vos Hestia, since September last year, rescuing more than 10,000 migrants. Italian police searched the ship on Monday as part of a wider investigation into the role non-government organizations are playing in picking up migrants off the Libya coast and bringing them to Italy.', 'Suicide bomb attack in the Afghan capital killed at least nine people and wounded many. Atta Mohammad Noor was governor of the northern province of Balkh and a leader of the mainly ethnic Tajik Jamiat-i-Islami party. Political tensions are rising ahead of presidential elections expected in 2019.', \"Joe Biden doubts Donald Trump can undo the current administration's environmental policies. Trump will take over as president on Jan. 20. He has said he does not believe in global warming and will name a climate change skeptic to head the Environmental Protection Agency.\", \"Iowa Governor Terry Branstad is President Donald Trump's nominee for ambassador to China. Branstad wants to take a firm line with Beijing on issues from North Korea to trade disputes and human rights.\", 'Saad al-Hariri will not resign as prime minister at the request of President Michel Aoun. Hariri made the announcement after he returned to Beirut for the first time since he quit abruptly on Nov. 4.', \"Agustin Carstens is factoring in the possibility of Donald Trump becoming U.S. president in the bank's economic risk models. The bank launched a surprise rate hike on Feb. 17 to shore up the peso currency, which had been falling sharply against the dollar since the end of 2014.\", 'Donald Trump says defeating Islamic State is a higher priority than persuading Syrian President Bashar al-Assad to step down. Trump questions how Hillary Clinton would negotiate with Russian President Vladimir Putin after demonizing him. Trump blames President Obama for a downturn in U.S. relations with the Philippines under its new president Rodrigo Duterte.', 'Theresa May says she will continue to govern in the interests of all Northern Ireland and uphold the agreement that ended decades of sectarian violence in the province.', 'Republican lawmakers want to stabilize the insurance market while they work on repealing and replacing Obamacare. The seven-year-old law has enabled up to 20 million previously uninsured Americans to obtain health coverage. Republicans call it federal governement.', \"Republican leaders of the Senate reject President Obama's request for hearings and a vote on his Supreme Court nominee. Obama is planning to name a replacement for the late Justice Antonin Scalia in the coming weeks.\", 'Saudi Arabia does not believe Iran is abiding by the 2015 nuclear deal between Iran and six world powers.', \"Two men were shot in a drive-by shooting at South Africa's Cape Town International Airport. The airport is Africa's third busiest and handles around 10 million passengers a year. The motive for the shooting is unknown.\", \"Cory Gardner is chairman of a U.S. Senate cyber security subcommittee. He plans to introduce sanctions legislation over Russia's cyber criminals. Washington accused Russia of political cyber attacks ahead of the Nov. 8 presidential election.\", 'Bangladesh is seeking international support for its plan to relocate Rohingya Muslims fleeing violence in Myanmar to a remote Bay of Bengal island. More than 300,000 Rohingya have fled to Bangladesh since the latest violence began on Aug. 25.', \"Members of Colombia's Marxist FARC guerrillas will meet U.S. Secretary of State John Kerry in Cuba on Monday at around 4 p.m. (2000 GMT) They will also go to an exhibition game between Major League Baseball's Tampa Bay Rays and Cuba's national team on Tuesday.\", \"Iran's military chief warned Israel against breaching Syrian airspace and territory on a visit to Damascus. General Mohammad Baqeri pledged to increase cooperation with Syria's military to fight Israel and insurgents.\", 'Mick Mulvaney was confirmed as White House budget director on Thursday. The vote was 51-49, with 46 Democrats and 2 independents voting no. John McCain opposed him.', 'The battle for the city of Raqqa is drawing to an end. Islamic State militants have lost swathes of land to various offensives across Syria and Iraq. Their defeat in Raqqa would be a milestone in the fight to roll back the theocratic caliphate.']\n"
     ]
    },
    {
     "ename": "TypeError",
     "evalue": "string indices must be integers",
     "output_type": "error",
     "traceback": [
      "\u001b[0;31m---------------------------------------------------------------------------\u001b[0m",
      "\u001b[0;31mTypeError\u001b[0m                                 Traceback (most recent call last)",
      "Cell \u001b[0;32mIn[12], line 10\u001b[0m\n\u001b[1;32m      7\u001b[0m res \u001b[39m=\u001b[39m [summarize_text(t, \u001b[39m1024\u001b[39m) \u001b[39mfor\u001b[39;00m t \u001b[39min\u001b[39;00m text]\n\u001b[1;32m      9\u001b[0m \u001b[39mprint\u001b[39m(res)\n\u001b[0;32m---> 10\u001b[0m \u001b[39mprint\u001b[39m(\u001b[39mf\u001b[39m\u001b[39m\"\u001b[39m\u001b[39msummary:\u001b[39m\u001b[39m\\n\u001b[39;00m\u001b[39m{\u001b[39;00mres[\u001b[39m0\u001b[39;49m][\u001b[39m'\u001b[39;49m\u001b[39msummary_text\u001b[39;49m\u001b[39m'\u001b[39;49m]\u001b[39m}\u001b[39;00m\u001b[39m\"\u001b[39m)\n",
      "\u001b[0;31mTypeError\u001b[0m: string indices must be integers"
     ]
    }
   ],
   "source": [
    "import evaluate\n",
    "\n",
    "metric = evaluate.load(\"rouge\")\n",
    "\n",
    "# summarize dialogue\n",
    "text = [x['text'] for x in dataset['train']]\n",
    "res = [summarize_text(t, 1024) for t in text]\n",
    "\n",
    "print(res[0])"
   ]
  },
  {
   "cell_type": "code",
   "execution_count": 17,
   "id": "5b69cd2b",
   "metadata": {},
   "outputs": [
    {
     "data": {
      "text/plain": [
       "{'rouge1': 0.26106030135658265,\n",
       " 'rouge2': 0.09360420472838196,\n",
       " 'rougeL': 0.24002516157789028,\n",
       " 'rougeLsum': 0.24018285722455998}"
      ]
     },
     "execution_count": 17,
     "metadata": {},
     "output_type": "execute_result"
    }
   ],
   "source": [
    "references=[t['target'] for t in dataset['train']]\n",
    "metric.compute(references=references, predictions=res)"
   ]
  },
  {
   "attachments": {},
   "cell_type": "markdown",
   "id": "59ee3f54",
   "metadata": {},
   "source": [
    "# Flan-T5-Base-Samsum model"
   ]
  },
  {
   "cell_type": "code",
   "execution_count": 22,
   "id": "804ad682",
   "metadata": {},
   "outputs": [
    {
     "name": "stderr",
     "output_type": "stream",
     "text": [
      "Token indices sequence length is longer than the specified maximum sequence length for this model (844 > 512). Running this sequence through the model will result in indexing errors\n",
      "/home/arun/src/gh/nlp-expt/.env/lib/python3.10/site-packages/transformers/generation/utils.py:1186: UserWarning: You have modified the pretrained model configuration to control generation. This is a deprecated strategy to control generation and will be removed soon, in a future version. Please use a generation configuration file (see https://huggingface.co/docs/transformers/main_classes/text_generation)\n",
      "  warnings.warn(\n",
      "Your max_length is set to 200, but you input_length is only 149. You might consider decreasing max_length manually, e.g. summarizer('...', max_length=74)\n",
      "Your max_length is set to 200, but you input_length is only 126. You might consider decreasing max_length manually, e.g. summarizer('...', max_length=63)\n",
      "Your max_length is set to 200, but you input_length is only 73. You might consider decreasing max_length manually, e.g. summarizer('...', max_length=36)\n",
      "Your max_length is set to 200, but you input_length is only 63. You might consider decreasing max_length manually, e.g. summarizer('...', max_length=31)\n",
      "Your max_length is set to 200, but you input_length is only 107. You might consider decreasing max_length manually, e.g. summarizer('...', max_length=53)\n",
      "Your max_length is set to 200, but you input_length is only 114. You might consider decreasing max_length manually, e.g. summarizer('...', max_length=57)\n",
      "Your max_length is set to 200, but you input_length is only 106. You might consider decreasing max_length manually, e.g. summarizer('...', max_length=53)\n",
      "Your max_length is set to 200, but you input_length is only 161. You might consider decreasing max_length manually, e.g. summarizer('...', max_length=80)\n",
      "Your max_length is set to 200, but you input_length is only 126. You might consider decreasing max_length manually, e.g. summarizer('...', max_length=63)\n",
      "Your max_length is set to 200, but you input_length is only 175. You might consider decreasing max_length manually, e.g. summarizer('...', max_length=87)\n",
      "Your max_length is set to 200, but you input_length is only 163. You might consider decreasing max_length manually, e.g. summarizer('...', max_length=81)\n",
      "Your max_length is set to 200, but you input_length is only 128. You might consider decreasing max_length manually, e.g. summarizer('...', max_length=64)\n",
      "Your max_length is set to 200, but you input_length is only 91. You might consider decreasing max_length manually, e.g. summarizer('...', max_length=45)\n",
      "Your max_length is set to 200, but you input_length is only 127. You might consider decreasing max_length manually, e.g. summarizer('...', max_length=63)\n"
     ]
    }
   ],
   "source": [
    "flan_summarize = pipeline('summarization', model='philschmid/flan-t5-base-samsum', device=device)\n",
    "\n",
    "flan_res = flan_summarize(text)"
   ]
  },
  {
   "cell_type": "code",
   "execution_count": 24,
   "id": "51ed7466",
   "metadata": {},
   "outputs": [
    {
     "data": {
      "text/plain": [
       "{'rouge1': 0.26671677669711646,\n",
       " 'rouge2': 0.10141538977705652,\n",
       " 'rougeL': 0.23888055617499332,\n",
       " 'rougeLsum': 0.23772103425086222}"
      ]
     },
     "execution_count": 24,
     "metadata": {},
     "output_type": "execute_result"
    }
   ],
   "source": [
    "flan_summaries = [s['summary_text'] for s in flan_res]\n",
    "metric.compute(references=references, predictions=flan_summaries)"
   ]
  },
  {
   "cell_type": "code",
   "execution_count": null,
   "id": "bf5f0409",
   "metadata": {},
   "outputs": [],
   "source": []
  }
 ],
 "metadata": {
  "kernelspec": {
   "display_name": ".env",
   "language": "python",
   "name": "python3"
  },
  "language_info": {
   "codemirror_mode": {
    "name": "ipython",
    "version": 3
   },
   "file_extension": ".py",
   "mimetype": "text/x-python",
   "name": "python",
   "nbconvert_exporter": "python",
   "pygments_lexer": "ipython3",
   "version": "3.10.9"
  },
  "vscode": {
   "interpreter": {
    "hash": "a1046a07183ba96cc005ffba39b615aff751c11520bd5fd9b0a80a7e35ee94af"
   }
  }
 },
 "nbformat": 4,
 "nbformat_minor": 5
}
