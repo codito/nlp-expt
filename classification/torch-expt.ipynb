{
 "cells": [
  {
   "cell_type": "code",
   "execution_count": 1,
   "metadata": {
    "tags": []
   },
   "outputs": [
    {
     "name": "stderr",
     "output_type": "stream",
     "text": [
      "/usr/lib/python3.10/site-packages/tqdm/auto.py:22: TqdmWarning: IProgress not found. Please update jupyter and ipywidgets. See https://ipywidgets.readthedocs.io/en/stable/user_install.html\n",
      "  from .autonotebook import tqdm as notebook_tqdm\n"
     ]
    }
   ],
   "source": [
    "import torch\n",
    "import pandas as pd\n",
    "import numpy as np\n",
    "import matplotlib.pyplot as plt\n",
    "\n",
    "from IPython.core.debugger import set_trace"
   ]
  },
  {
   "cell_type": "markdown",
   "metadata": {},
   "source": [
    "# Data types"
   ]
  },
  {
   "cell_type": "code",
   "execution_count": 2,
   "metadata": {
    "tags": []
   },
   "outputs": [
    {
     "data": {
      "text/plain": [
       "tensor([[1., 1., 1.]])"
      ]
     },
     "execution_count": 2,
     "metadata": {},
     "output_type": "execute_result"
    }
   ],
   "source": [
    "x = torch.ones(1, 3)\n",
    "y = torch.zeros_like(x)\n",
    "x+y"
   ]
  },
  {
   "cell_type": "code",
   "execution_count": 3,
   "metadata": {
    "tags": []
   },
   "outputs": [
    {
     "data": {
      "text/plain": [
       "array([[1., 1., 1.]], dtype=float32)"
      ]
     },
     "execution_count": 3,
     "metadata": {},
     "output_type": "execute_result"
    }
   ],
   "source": [
    "x.numpy()"
   ]
  },
  {
   "cell_type": "code",
   "execution_count": 4,
   "metadata": {
    "tags": []
   },
   "outputs": [
    {
     "data": {
      "text/plain": [
       "tensor([[3.]], grad_fn=<AddBackward0>)"
      ]
     },
     "execution_count": 4,
     "metadata": {},
     "output_type": "execute_result"
    }
   ],
   "source": [
    "# define variables\n",
    "xx = torch.autograd.Variable(x)\n",
    "ww = torch.autograd.Variable(torch.ones(3, 1), requires_grad=True)\n",
    "b = torch.autograd.Variable(torch.zeros(1), requires_grad=True)\n",
    "yy = xx.mm(ww) + b\n",
    "yy"
   ]
  },
  {
   "cell_type": "code",
   "execution_count": 5,
   "metadata": {
    "tags": []
   },
   "outputs": [],
   "source": [
    "yy.backward()"
   ]
  },
  {
   "cell_type": "code",
   "execution_count": 6,
   "metadata": {
    "tags": []
   },
   "outputs": [
    {
     "data": {
      "text/plain": [
       "'1.13.1'"
      ]
     },
     "execution_count": 6,
     "metadata": {},
     "output_type": "execute_result"
    }
   ],
   "source": [
    "torch.__version__"
   ]
  },
  {
   "cell_type": "markdown",
   "metadata": {},
   "source": [
    "## Reference"
   ]
  },
  {
   "cell_type": "markdown",
   "metadata": {},
   "source": [
    "* https://www.youtube.com/watch?v=l-Fe9Ekxxj4&list=PLlMkM4tgfjnJ3I-dbhO9JTw7gNty6o_2m\n",
    "* https://github.com/hunkim/PyTorchZeroToAll"
   ]
  },
  {
   "cell_type": "markdown",
   "metadata": {},
   "source": [
    "# Linear Model"
   ]
  },
  {
   "cell_type": "markdown",
   "metadata": {},
   "source": [
    "`y = w*x`\n",
    "\n",
    "Let's try to code this in simple python."
   ]
  },
  {
   "cell_type": "code",
   "execution_count": 7,
   "metadata": {
    "tags": []
   },
   "outputs": [
    {
     "name": "stdout",
     "output_type": "stream",
     "text": [
      "w=0.1, loss = 16.846666666666668\n",
      "w=0.2, loss = 15.120000000000003\n",
      "w=0.30000000000000004, loss = 13.486666666666665\n",
      "w=0.4, loss = 11.946666666666667\n",
      "w=0.5, loss = 10.5\n",
      "w=0.6, loss = 9.146666666666667\n",
      "w=0.7000000000000001, loss = 7.886666666666666\n",
      "w=0.8, loss = 6.719999999999999\n",
      "w=0.9, loss = 5.646666666666666\n",
      "w=1.0, loss = 4.666666666666667\n",
      "w=1.1, loss = 3.779999999999999\n",
      "w=1.2000000000000002, loss = 2.986666666666665\n",
      "w=1.3000000000000003, loss = 2.286666666666665\n",
      "w=1.4000000000000001, loss = 1.6799999999999995\n",
      "w=1.5000000000000002, loss = 1.1666666666666654\n",
      "w=1.6, loss = 0.746666666666666\n",
      "w=1.7000000000000002, loss = 0.4199999999999995\n",
      "w=1.8000000000000003, loss = 0.18666666666666634\n",
      "w=1.9000000000000001, loss = 0.046666666666666586\n",
      "w=2.0, loss = 0.0\n",
      "w=2.1, loss = 0.046666666666666835\n",
      "w=2.2, loss = 0.18666666666666698\n",
      "w=2.3000000000000003, loss = 0.42000000000000054\n",
      "w=2.4000000000000004, loss = 0.7466666666666679\n",
      "w=2.5000000000000004, loss = 1.1666666666666692\n",
      "w=2.6, loss = 1.6800000000000008\n",
      "w=2.7, loss = 2.2866666666666693\n",
      "w=2.8000000000000003, loss = 2.986666666666668\n",
      "w=2.9000000000000004, loss = 3.780000000000003\n",
      "w=3.0000000000000004, loss = 4.666666666666671\n",
      "w=3.1, loss = 5.646666666666668\n",
      "w=3.2, loss = 6.720000000000003\n",
      "w=3.3000000000000003, loss = 7.886666666666668\n",
      "w=3.4000000000000004, loss = 9.14666666666667\n",
      "w=3.5000000000000004, loss = 10.500000000000009\n",
      "w=3.6, loss = 11.94666666666667\n",
      "w=3.7, loss = 13.486666666666673\n",
      "w=3.8000000000000003, loss = 15.120000000000005\n",
      "w=3.9000000000000004, loss = 16.84666666666667\n",
      "w=4.0, loss = 18.666666666666668\n"
     ]
    }
   ],
   "source": [
    "X = [1.0, 2.0, 3.0]\n",
    "y_true = [2.0, 4.0, 6.0]\n",
    "\n",
    "def forward(x, w):\n",
    "    return x * w\n",
    "\n",
    "def loss(y_true, y_pred):\n",
    "    return (y_pred-y_true)**2\n",
    "\n",
    "w = 1.0 # random weight\n",
    "weights = []\n",
    "losses = []\n",
    "for w in np.arange(0.1, 4.1, 0.1):\n",
    "    l = []\n",
    "    for x, y in zip(X, y_true):\n",
    "        y_pred = forward(x, w)\n",
    "        l.append(loss(y, y_pred))\n",
    "    lo = np.mean(l)\n",
    "    weights.append(w)\n",
    "    losses.append(lo)\n",
    "    print(f'w={w}, loss = {lo}')"
   ]
  },
  {
   "cell_type": "code",
   "execution_count": 8,
   "metadata": {
    "tags": []
   },
   "outputs": [
    {
     "data": {
      "text/plain": [
       "Text(0, 0.5, 'loss')"
      ]
     },
     "execution_count": 8,
     "metadata": {},
     "output_type": "execute_result"
    },
    {
     "data": {
      "image/png": "[encoded data removed]",
      "text/plain": [
       "<Figure size 640x480 with 1 Axes>"
      ]
     },
     "metadata": {},
     "output_type": "display_data"
    }
   ],
   "source": [
    "plt.plot(weights, losses)\n",
    "plt.xlabel('weight')\n",
    "plt.ylabel('loss')"
   ]
  },
  {
   "cell_type": "markdown",
   "metadata": {},
   "source": [
    "## Analysis\n",
    "\n",
    "Challenge: the above loop is bruteforce.\n",
    "\n",
    "What we want is to find the global minima for the graph! At the minima, first derivative is 0.\n",
    "\n",
    "Derivative of `loss` with respect to changing values of `w`. so `d(loss)/dw`.\n",
    "\n",
    "```\n",
    "loss = (y_pred-y)^2 = (x*w - y)^2\n",
    "d(loss)/dw = d(x*w*x*w + y*y - 2 * x*w * y)/dw = 2*x*x*w - 2*x*y = 2*x * (x*w - y)\n",
    "\n",
    "w' = w - lr * d(loss)/dw\n",
    "```"
   ]
  },
  {
   "cell_type": "code",
   "execution_count": 9,
   "metadata": {
    "tags": []
   },
   "outputs": [
    {
     "name": "stdout",
     "output_type": "stream",
     "text": [
      "epoch=0, w=1.448, g=-9.333333333333334, loss = 4.666666666666667\n",
      "epoch=1, w=1.695296, g=-5.152000000000001, loss = 1.4219520000000008\n",
      "epoch=2, w=1.8318033919999999, g=-2.8439040000000007, loss = 0.43327446220800026\n",
      "epoch=3, w=1.9071554723839999, g=-1.5698350080000003, loss = 0.1320204617326265\n",
      "epoch=4, w=1.948749820755968, g=-0.8665489244160014, loss = 0.04022716277177834\n",
      "epoch=5, w=1.9717099010572943, g=-0.47833500627763187, loss = 0.012257377405211897\n",
      "epoch=6, w=1.9843838653836265, g=-0.2640409234652535, loss = 0.0037348719248777064\n",
      "epoch=7, w=1.991379893691762, g=-0.1457505897528185, loss = 0.001138030414997914\n",
      "epoch=8, w=1.9952417013178525, g=-0.0804543255435548, loss = 0.00034676241957151585\n",
      "epoch=9, w=1.9973734191274546, g=-0.04441078770004377, loss = 0.00010565989629312637\n"
     ]
    }
   ],
   "source": [
    "X = [1.0, 2.0, 3.0]\n",
    "y_true = [2.0, 4.0, 6.0]\n",
    "\n",
    "def forward(x, w):\n",
    "    return x * w\n",
    "\n",
    "def loss(y_true, y_pred):\n",
    "    return (y_pred-y_true)**2\n",
    "\n",
    "def gradient(x, y, w):\n",
    "    return 2*x*(x*w - y)\n",
    "\n",
    "w = 1.0 # random weight\n",
    "lr = 0.048\n",
    "weights = []\n",
    "mean_losses = []\n",
    "for i in range(0, 10):\n",
    "    losses = []\n",
    "    gradients = []\n",
    "    for x, y in zip(X, y_true):\n",
    "        y_pred = forward(x, w)\n",
    "        losses.append(loss(y, y_pred))\n",
    "        gradients.append(gradient(x, y, w))\n",
    "    l = np.mean(losses)\n",
    "    g = np.mean(gradients)\n",
    "    w = w - lr * g\n",
    "    weights.append(w)\n",
    "    mean_losses.append(l)\n",
    "    print(f'epoch={i}, w={w}, g={g}, loss = {l}')"
   ]
  },
  {
   "cell_type": "code",
   "execution_count": 10,
   "metadata": {
    "tags": []
   },
   "outputs": [
    {
     "data": {
      "text/plain": [
       "Text(0, 0.5, 'loss')"
      ]
     },
     "execution_count": 10,
     "metadata": {},
     "output_type": "execute_result"
    },
    {
     "data": {
      "image/png": "[encoded data removed]",
      "text/plain": [
       "<Figure size 640x480 with 1 Axes>"
      ]
     },
     "metadata": {},
     "output_type": "display_data"
    }
   ],
   "source": [
    "plt.plot(weights, mean_losses)\n",
    "plt.xlabel('weight')\n",
    "plt.ylabel('loss')"
   ]
  },
  {
   "cell_type": "markdown",
   "metadata": {},
   "source": [
    "## Analysis\n",
    "\n",
    "Challenge: computing gradient for non-linear functions, scaling this to thousand nodes in network. Use `autograd` from pytorch. "
   ]
  },
  {
   "cell_type": "code",
   "execution_count": 11,
   "metadata": {},
   "outputs": [
    {
     "name": "stdout",
     "output_type": "stream",
     "text": [
      "epoch=0, w=tensor([2.3440], requires_grad=True), g=tensor([0.]), loss = 4.666666507720947\n",
      "epoch=1, w=tensor([1.8817], requires_grad=True), g=tensor([0.]), loss = 0.5522342324256897\n",
      "epoch=2, w=tensor([2.0407], requires_grad=True), g=tensor([0.]), loss = 0.06534925848245621\n",
      "epoch=3, w=tensor([1.9860], requires_grad=True), g=tensor([0.]), loss = 0.007733169477432966\n",
      "epoch=4, w=tensor([2.0048], requires_grad=True), g=tensor([0.]), loss = 0.0009151138365268707\n",
      "epoch=5, w=tensor([1.9983], requires_grad=True), g=tensor([0.]), loss = 0.00010829636448761448\n",
      "epoch=6, w=tensor([2.0006], requires_grad=True), g=tensor([0.]), loss = 1.2816067282983568e-05\n",
      "epoch=7, w=tensor([1.9998], requires_grad=True), g=tensor([0.]), loss = 1.5162410136326798e-06\n",
      "epoch=8, w=tensor([2.0001], requires_grad=True), g=tensor([0.]), loss = 1.7923821360454895e-07\n",
      "epoch=9, w=tensor([2.0000], requires_grad=True), g=tensor([0.]), loss = 2.1212997580732917e-08\n"
     ]
    }
   ],
   "source": [
    "# let's use pytorch's autograd to compute these...\n",
    "X = [1.0, 2.0, 3.0]\n",
    "y_true = [2.0, 4.0, 6.0]\n",
    "w = torch.autograd.Variable(torch.tensor([1.0]), requires_grad=True)\n",
    "\n",
    "def forward(x, w):\n",
    "    return x * w\n",
    "\n",
    "def loss(y_true, y_pred):\n",
    "    return (y_pred-y_true)**2\n",
    "\n",
    "lr = 0.048\n",
    "weights = []\n",
    "mean_losses = []\n",
    "for i in range(0, 10):\n",
    "    losses = []\n",
    "    for x, y in zip(X, y_true):\n",
    "        y_pred = forward(x, w)\n",
    "        l = loss(y, y_pred)\n",
    "        l.backward()\n",
    "        losses.append(l.data)\n",
    "        \n",
    "    l = np.mean(losses)\n",
    "    g = w.grad.data\n",
    "    w.data = w.data - lr * g\n",
    "    w.grad.data.zero_()\n",
    "    \n",
    "    weights.append(w.data)\n",
    "    mean_losses.append(l)\n",
    "    print(f'epoch={i}, w={w}, g={g}, loss = {l}')"
   ]
  },
  {
   "cell_type": "code",
   "execution_count": 12,
   "metadata": {},
   "outputs": [
    {
     "data": {
      "text/plain": [
       "Text(0, 0.5, 'loss')"
      ]
     },
     "execution_count": 12,
     "metadata": {},
     "output_type": "execute_result"
    },
    {
     "data": {
      "image/png": "[encoded data removed]",
      "text/plain": [
       "<Figure size 432x288 with 1 Axes>"
      ]
     },
     "metadata": {
      "needs_background": "light"
     },
     "output_type": "display_data"
    }
   ],
   "source": [
    "plt.plot(weights, mean_losses)\n",
    "plt.xlabel('weight')\n",
    "plt.ylabel('loss')"
   ]
  },
  {
   "cell_type": "markdown",
   "metadata": {},
   "source": [
    "## Analysis\n",
    "\n",
    "Now define a proper torch module for the same."
   ]
  },
  {
   "cell_type": "code",
   "execution_count": 16,
   "metadata": {},
   "outputs": [
    {
     "name": "stdout",
     "output_type": "stream",
     "text": [
      "epoch=0, loss=30.45906639099121\n",
      "epoch=1, loss=6.692518711090088\n",
      "epoch=2, loss=1.496538519859314\n",
      "epoch=3, loss=0.35996514558792114\n",
      "epoch=4, loss=0.11076531559228897\n",
      "epoch=5, loss=0.05555591732263565\n",
      "epoch=6, loss=0.042768362909555435\n",
      "epoch=7, loss=0.039270490407943726\n",
      "epoch=8, loss=0.03781937435269356\n",
      "epoch=9, loss=0.0368313267827034\n"
     ]
    }
   ],
   "source": [
    "X = torch.autograd.Variable(torch.tensor([[1.0], [2.0], [3.0]]))\n",
    "y = torch.autograd.Variable(torch.tensor([[2.0], [4.0], [6.0]]))\n",
    "\n",
    "class Model(torch.nn.Module):\n",
    "    def __init__(self):\n",
    "        super(Model, self).__init__()\n",
    "        self.linear = torch.nn.Linear(1, 1)\n",
    "        \n",
    "    def forward(self, x):\n",
    "        return self.linear(x)\n",
    "\n",
    "model = Model() \n",
    "loss = torch.nn.MSELoss(reduction='mean')\n",
    "optim = torch.optim.SGD(model.parameters(), lr=0.048)\n",
    "for i in range(0, 10):\n",
    "    y_pred = model.forward(X)\n",
    "    l = loss(y_pred, y)\n",
    "    \n",
    "    optim.zero_grad()\n",
    "    l.backward()\n",
    "    optim.step()\n",
    "    print(f'epoch={i}, loss={l.data}')"
   ]
  },
  {
   "cell_type": "markdown",
   "metadata": {},
   "source": [
    "# Text models\n",
    "\n",
    "So far so good. Let's train a slightly more complex model using Dataset etc."
   ]
  },
  {
   "cell_type": "code",
   "execution_count": 1,
   "metadata": {
    "tags": []
   },
   "outputs": [],
   "source": [
    "import sys\n",
    "sys.path.append(\"../.env/lib/python3.10/site-packages/\")"
   ]
  },
  {
   "cell_type": "code",
   "execution_count": 8,
   "metadata": {
    "tags": []
   },
   "outputs": [
    {
     "data": {
      "text/plain": [
       "(1,\n",
       " 'I rented I AM CURIOUS-YELLOW from my video store because of all the controversy that surrounded it when it was first released in 1967. I also heard that at first it was seized by U.S. customs if it ever tried to enter this country, therefore being a fan of films considered \"controversial\" I really had to see this for myself.<br /><br />The plot is centered around a young Swedish drama student named Lena who wants to learn everything she can about life. In particular she wants to focus her attentions to making some sort of documentary on what the average Swede thought about certain political issues such as the Vietnam War and race issues in the United States. In between asking politicians and ordinary denizens of Stockholm about their opinions on politics, she has sex with her drama teacher, classmates, and married men.<br /><br />What kills me about I AM CURIOUS-YELLOW is that 40 years ago, this was considered pornographic. Really, the sex and nudity scenes are few and far between, even then it\\'s not shot like some cheaply made porno. While my countrymen mind find it shocking, in reality sex and nudity are a major staple in Swedish cinema. Even Ingmar Bergman, arguably their answer to good old boy John Ford, had sex scenes in his films.<br /><br />I do commend the filmmakers for the fact that any sex shown in the film is shown for artistic purposes rather than just to shock people and make money to be shown in pornographic theaters in America. I AM CURIOUS-YELLOW is a good film for anyone wanting to study the meat and potatoes (no pun intended) of Swedish cinema. But really, this film doesn\\'t have much of a plot.')"
      ]
     },
     "execution_count": 8,
     "metadata": {},
     "output_type": "execute_result"
    }
   ],
   "source": [
    "from torchtext.datasets import IMDB\n",
    "\n",
    "train_iter = iter(IMDB(split=\"train\"))\n",
    "next(train_iter)\n",
    "\n",
    "# data format: <sentiment, text>"
   ]
  },
  {
   "cell_type": "code",
   "execution_count": 12,
   "metadata": {
    "tags": []
   },
   "outputs": [
    {
     "data": {
      "text/plain": [
       "(1,\n",
       " 'Oh, brother...after hearing about this ridiculous film for umpteen years all I can think of is that old Peggy Lee song..<br /><br />\"Is that all there is??\" ...I was just an early teen when this smoked fish hit the U.S. I was too young to get in the theater (although I did manage to sneak into \"Goodbye Columbus\"). Then a screening at a local film museum beckoned - Finally I could see this film, except now I was as old as my parents were when they schlepped to see it!!<br /><br />The ONLY reason this film was not condemned to the anonymous sands of time was because of the obscenity case sparked by its U.S. release. MILLIONS of people flocked to this stinker, thinking they were going to see a sex film...Instead, they got lots of closeups of gnarly, repulsive Swedes, on-street interviews in bland shopping malls, asinie political pretension...and feeble who-cares simulated sex scenes with saggy, pale actors.<br /><br />Cultural icon, holy grail, historic artifact..whatever this thing was, shred it, burn it, then stuff the ashes in a lead box!<br /><br />Elite esthetes still scrape to find value in its boring pseudo revolutionary political spewings..But if it weren\\'t for the censorship scandal, it would have been ignored, then forgotten.<br /><br />Instead, the \"I Am Blank, Blank\" rhythymed title was repeated endlessly for years as a titilation for porno films (I am Curious, Lavender - for gay films, I Am Curious, Black - for blaxploitation films, etc..) and every ten years or so the thing rises from the dead, to be viewed by a new generation of suckers who want to see that \"naughty sex film\" that \"revolutionized the film industry\"...<br /><br />Yeesh, avoid like the plague..Or if you MUST see it - rent the video and fast forward to the \"dirty\" parts, just to get it over with.<br /><br />')"
      ]
     },
     "execution_count": 12,
     "metadata": {},
     "output_type": "execute_result"
    }
   ],
   "source": [
    "next(train_iter)"
   ]
  },
  {
   "cell_type": "code",
   "execution_count": null,
   "metadata": {},
   "outputs": [],
   "source": []
  },
  {
   "cell_type": "code",
   "execution_count": null,
   "metadata": {},
   "outputs": [],
   "source": []
  }
 ],
 "metadata": {
  "kernelspec": {
   "display_name": "nlp-expt",
   "language": "python",
   "name": "nlp-expt"
  },
  "language_info": {
   "codemirror_mode": {
    "name": "ipython",
    "version": 3
   },
   "file_extension": ".py",
   "mimetype": "text/x-python",
   "name": "python",
   "nbconvert_exporter": "python",
   "pygments_lexer": "ipython3",
   "version": "3.10.9"
  }
 },
 "nbformat": 4,
 "nbformat_minor": 4
}
